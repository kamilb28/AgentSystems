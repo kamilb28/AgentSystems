{
 "cells": [
  {
   "cell_type": "markdown",
   "id": "stupid-rebound",
   "metadata": {},
   "source": [
    "# Other Cellular Automata: Langton's ant and Elementary CA (16 points)"
   ]
  },
  {
   "cell_type": "code",
   "execution_count": 1,
   "id": "italian-spanking",
   "metadata": {},
   "outputs": [
    {
     "name": "stdout",
     "output_type": "stream",
     "text": [
      "pygame 2.6.1 (SDL 2.28.4, Python 3.12.3)\n",
      "Hello from the pygame community. https://www.pygame.org/contribute.html\n"
     ]
    }
   ],
   "source": [
    "import numpy as np\n",
    "import itertools\n",
    "import pygame\n",
    "\n",
    "from pygame.locals import (\n",
    "    K_UP,\n",
    "    K_DOWN,\n",
    "    K_LEFT,\n",
    "    K_RIGHT,\n",
    "    K_ESCAPE,\n",
    "    KEYDOWN,\n",
    "    QUIT,\n",
    ")"
   ]
  },
  {
   "cell_type": "markdown",
   "id": "occupied-lotus",
   "metadata": {},
   "source": [
    "# Langton's ant"
   ]
  },
  {
   "cell_type": "markdown",
   "id": "bigger-cotton",
   "metadata": {},
   "source": [
    "Langton's ant is a system with very simple rules, but complex behaviour. It can be described as a CA with a two-dimensional grid of binary cells. \n",
    "\n",
    "* Cells can be either *black* (**1**) or *white* (**0**). \n",
    "* The initial grid contains only white cells and an arbitrarily located 'ant'. \n",
    "* The 'ant' is a special cell that travels across the grid.\n",
    "* The 'ant' can move a cell ahead in one of four directions. The direction is determined according to the following rules:\n",
    "    * At a white cell (**0**) 'ant' turns <span style=\"color:green\">90 degree clockwise</span>, flips the colour of the current cell and moves one cell ahead.\n",
    "    * At a black cell (**1**) 'ant' turns <span style=\"color:red\">90 degrees counterclokwise</span>, flips the colour of the current cell and moves one cell ahead.\n",
    "![image](https://upload.wikimedia.org/wikipedia/commons/0/09/LangtonsAntAnimated.gif)\n",
    "Sources and more: [1](https://mathworld.wolfram.com/LangtonsAnt.html), [2](https://en.wikipedia.org/wiki/Langton%27s_ant), [3](https://upload.wikimedia.org/wikipedia/commons/0/09/LangtonsAntAnimated.gif)."
   ]
  },
  {
   "cell_type": "markdown",
   "id": "instrumental-pocket",
   "metadata": {},
   "source": [
    "## Langton's ant in Python (8 points)"
   ]
  },
  {
   "cell_type": "markdown",
   "id": "automated-birth",
   "metadata": {},
   "source": [
    "* (4 points) Fill the missing parts of the `move` & `update` functions.\n",
    "* (2 points) Find and download a free ant image, load it in the code. Modify the `turnClockwise` and `turnCounterClokwise` functions, so that the ant image is rotated according to the CA's rules.\n",
    "* (2 point) Move the ant automatically every few ms (add a timer).\n",
    "Please note that the point (0,0) is located in the left upper corner of the board."
   ]
  },
  {
   "cell_type": "code",
   "execution_count": 2,
   "id": "through-kuwait",
   "metadata": {},
   "outputs": [],
   "source": [
    "class Ant:\n",
    "    def __init__(self, x, y, direction):\n",
    "        # x,y: inital ant position\n",
    "        # Directions: 0 - north, 1 - east, 2 - south, 3 - west\n",
    "        self.x = x\n",
    "        self.y = y\n",
    "        self.direction = direction\n",
    "        self.antImage = pygame.image.load('ant.png')\n",
    "        \n",
    "    def turnClockwise(self):\n",
    "        self.direction += 1\n",
    "        self.direction %= 4\n",
    "        self.antImage = pygame.transform.rotate(self.antImage, -90)\n",
    "\n",
    "    def turnCounterClockwise(self):\n",
    "        self.direction -= 1\n",
    "        self.direction %= 4\n",
    "        self.antImage = pygame.transform.rotate(self.antImage, +90)\n",
    "    \n",
    "    def move(self):\n",
    "        if self.direction in [0,2]:\n",
    "            self.y += self.direction - 1\n",
    "        else:\n",
    "            self.x -= self.direction - 2\n",
    "    \n",
    "    def getAntImage(self):\n",
    "        return self.antImage\n",
    "    "
   ]
  },
  {
   "cell_type": "code",
   "execution_count": 3,
   "id": "c14aebf9",
   "metadata": {},
   "outputs": [],
   "source": [
    "class Grid:\n",
    "    def __init__(self, size, ant):\n",
    "        self.size = size\n",
    "        self.grid = np.zeros((size,size))\n",
    "        self.ant = ant\n",
    "        \n",
    "    def update(self):\n",
    "        position = (self.ant.x, self.ant.y)\n",
    "        if self.grid[position] == 1:\n",
    "            self.ant.turnCounterClockwise()\n",
    "        else:\n",
    "            self.ant.turnClockwise()\n",
    "        self.grid[position] = int(not bool(self.grid[position]))\n",
    "        self.ant.move()"
   ]
  },
  {
   "cell_type": "code",
   "execution_count": 4,
   "id": "4af749f8",
   "metadata": {},
   "outputs": [],
   "source": [
    "def drawGrid(screen, grid, w_width, w_height):\n",
    "    black = (0,0,0)\n",
    "    white = (255,255,255)\n",
    "    ant_colour = (128,128,128)\n",
    "    \n",
    "    size = grid.size\n",
    "    blockSize = (min(w_width, w_height) - size) / size\n",
    "    \n",
    "    for x in range(0, size):\n",
    "        for y in range(0, size):\n",
    "            pos_x = (blockSize+1) * x\n",
    "            pos_y = (blockSize+1) * y\n",
    "            rect = pygame.Rect(pos_x, pos_y, blockSize, blockSize)\n",
    "            # Draw cells\n",
    "            if grid.grid[x][y] == 1:\n",
    "                pygame.draw.rect(screen, black, rect, 0)\n",
    "            else:\n",
    "                pygame.draw.rect(screen, white, rect, 0)    \n",
    "    \n",
    "            \n",
    "            if grid.ant.x == x and grid.ant.y == y:\n",
    "                # Draw ant\n",
    "                ant_x = (blockSize+1) * grid.ant.x\n",
    "                ant_y = (blockSize+1) * grid.ant.y\n",
    "                ant_img = grid.ant.getAntImage()\n",
    "                ant_img = pygame.transform.scale(ant_img, (blockSize, blockSize))\n",
    "                screen.blit(ant_img, rect)\n",
    "    pygame.display.flip()\n",
    "\n"
   ]
  },
  {
   "cell_type": "code",
   "execution_count": 5,
   "id": "95ac8757",
   "metadata": {},
   "outputs": [],
   "source": [
    "pygame.init()\n",
    "font = pygame.font.Font(None, 36)\n",
    "\n",
    "# Parameters\n",
    "w_width = 1000\n",
    "w_height = 800\n",
    "gridSize = 40\n",
    "\n",
    "# Set up the drawing window, adjust the size\n",
    "screen = pygame.display.set_mode([w_width, w_height])\n",
    "\n",
    "# Create ant & grid\n",
    "ant = Ant(int(gridSize / 2), int(gridSize / 2), 0)\n",
    "grid = Grid(gridSize, ant)\n",
    "\n",
    "# Set background\n",
    "screen.fill((128, 128, 128))\n",
    "\n",
    "drawGrid(screen, grid, w_width, w_height)\n",
    "\n",
    "running = True\n",
    "clock = pygame.time.Clock()\n",
    "start_time = pygame.time.get_ticks()\n",
    "last_update_time = pygame.time.get_ticks()\n",
    "\n",
    "while running:\n",
    "    # Event handling\n",
    "    for event in pygame.event.get():\n",
    "        if event.type == QUIT:\n",
    "            running = False\n",
    "\n",
    "        if event.type == KEYDOWN:\n",
    "            if event.key == K_RIGHT:\n",
    "                grid.update()\n",
    "                drawGrid(screen, grid, w_width, w_height)\n",
    "\n",
    "    current_time = pygame.time.get_ticks()\n",
    "    if current_time - last_update_time >= 100:\n",
    "        grid.update()\n",
    "        drawGrid(screen, grid, w_width, w_height)\n",
    "        last_update_time = current_time\n",
    "\n",
    "    # Display the timer\n",
    "    timer_text = font.render(f\"Time: {(current_time - start_time) / 1000:.2f} s\", True, (0, 0, 0), (255, 255, 255))\n",
    "    screen.blit(timer_text, (810, 10))\n",
    "\n",
    "    clock.tick(60)\n",
    "\n",
    "pygame.quit()"
   ]
  },
  {
   "cell_type": "markdown",
   "id": "eastern-country",
   "metadata": {},
   "source": [
    "# Elementary Cellular Automaton (8 points)"
   ]
  },
  {
   "cell_type": "markdown",
   "id": "formed-courtesy",
   "metadata": {},
   "source": [
    "Let's consider a very simple CA with a one-dimensional array of binary values. Let's assume that a cell has only two neighbours (i.e. the cell on the left and the cell on the right). In that case there are only 8 ($2^3$) possible  combinations of any three consecutive cells states. As a consequence the rules for this automaton are often presented in the following form (the first row describes currently processed cell and its neighbours, the second shows the new value):\n",
    "![image](https://mathworld.wolfram.com/images/eps-gif/ElementaryCA30Rules_750.gif)\n",
    "\n",
    "(source: [Wolfram Math World](https://mathworld.wolfram.com/ElementaryCellularAutomaton.html)).\n",
    "\n",
    "E.g. The first rule says that if the cell and both its neighbours are black, then the new value will also be black.\n",
    "\n",
    "In this system only $2^8$ possible sets of rules exist. The rule shown above is called *Rule 30* because the order of 1s and 0s resembles a binary number $00011110_2$, which in the decimal system is equal to 30.\n",
    "\n",
    "The evolution of elementary cellular automata is often presented in a row-by-row manner:\n",
    "![image](https://mathworld.wolfram.com/images/eps-gif/ElementaryCA30_1000.gif)\n",
    "\n",
    "(source: [Wolfram Math World](https://mathworld.wolfram.com/ElementaryCellularAutomaton.html)).\n",
    "\n",
    "\n"
   ]
  },
  {
   "cell_type": "markdown",
   "id": "center-shark",
   "metadata": {},
   "source": [
    "## Elementary Cellular Automaton in Python\n",
    "* (3 poinst) Implement the *Rule 30* elementary cellular automaton.\n",
    "* (4 points) Create a rule-independent implementation (rule is passed as a string in `__init__`; 2 points). Use binary operators (2 points)\n",
    "* (1 point)  Check  patterns for rules: 60, 62, 182, 250\n"
   ]
  },
  {
   "cell_type": "code",
   "execution_count": 6,
   "id": "11170c48-b14d-421f-a57d-b3740f12c5d5",
   "metadata": {},
   "outputs": [
    {
     "name": "stdout",
     "output_type": "stream",
     "text": [
      "[0 0 0 1 1 1 1 0]\n"
     ]
    }
   ],
   "source": [
    "rule = np.array([int(bit) for bit in f'{30:08b}'])\n",
    "print(rule)"
   ]
  },
  {
   "cell_type": "code",
   "execution_count": 7,
   "id": "available-episode",
   "metadata": {},
   "outputs": [],
   "source": [
    "class ElementaryCA:\n",
    "    def __init__(self, length, rule):\n",
    "        self.length = length\n",
    "        self.rule = np.array([int(bit) for bit in f'{rule:08b}'])\n",
    "        self.state = np.zeros((length), dtype = int)\n",
    "        self.state[int(length/2)] = 1\n",
    "        self.rowNumber = 0\n",
    "        \n",
    "    def nextRow(self):\n",
    "            nextRow = np.zeros(self.length, dtype = int)\n",
    "            #Boundary conditions; we're omitting the first and the last element\n",
    "            for i in range(1,self.length-1):\n",
    "                nextRow[i] = self.nextValue(self.state[i-1], self.state[i], self.state[i+1])\n",
    "            self.state = nextRow\n",
    "            self.rowNumber += 1\n",
    "\n",
    "    def convert_to_binaty(self, n1, n2, n3):\n",
    "        assert n1 in [0, 1] and n2 in [0, 1] and n3 in [0, 1]\n",
    "        # example: \n",
    "        #       n1=1 -> n1<<2 -> 100 \n",
    "        #       n2=0 -> n2<<1 -> 000 \n",
    "        #       n3=1 -> n3    -> 001 \n",
    "        #                        OR\n",
    "        #                result: 101   (=6, and 6 is on index 1 (7-6) in rule array, based on above info)\n",
    "        return (n1 << 2) | (n2 << 1) | n3  \n",
    "            \n",
    "    def nextValue(self, prev, mid, nxt):\n",
    "        # TODO Your implementation, RETURNS a new value based on 3 cells \n",
    "        return self.rule[7 - self.convert_to_binaty(prev, mid, nxt)]"
   ]
  },
  {
   "cell_type": "code",
   "execution_count": 8,
   "id": "618ee073",
   "metadata": {},
   "outputs": [],
   "source": [
    "def drawAndUpdate(screen, ca, w_width, w_height):\n",
    "    black = (0,0,0)\n",
    "    white = (255,255,255)    \n",
    "    length = ca.length\n",
    "    blockSize = (min(w_width, w_height) - length) / length\n",
    "    \n",
    "    for x in range(0, length):\n",
    "        pos_x = (blockSize+1) * x\n",
    "        pos_y = (blockSize+1) * ca.rowNumber\n",
    "        rect = pygame.Rect(pos_x, pos_y, blockSize, blockSize)\n",
    "        # Draw cells\n",
    "        if ca.state[x] == 1:\n",
    "            pygame.draw.rect(screen, black, rect, 0)\n",
    "        else:\n",
    "            pygame.draw.rect(screen, white, rect, 0)    \n",
    "\n",
    "    pygame.display.flip()\n",
    "    ca.nextRow()"
   ]
  },
  {
   "cell_type": "code",
   "execution_count": 9,
   "id": "scientific-jason",
   "metadata": {},
   "outputs": [],
   "source": [
    "pygame.init()\n",
    "# Parameters\n",
    "w_width = 800\n",
    "w_height = 800\n",
    "# Set up the drawing window, adjust the size\n",
    "screen = pygame.display.set_mode([w_width, w_height])\n",
    "\n",
    "# Create ant & grid\n",
    "ca = ElementaryCA(40, 30)\n",
    "\n",
    "# Set background\n",
    "screen.fill((128, 128, 128))\n",
    "\n",
    "drawAndUpdate(screen, ca, w_width, w_height)\n",
    "    \n",
    "running = True\n",
    "\n",
    "while running:\n",
    "    for event in pygame.event.get():   \n",
    "        if event.type == QUIT:\n",
    "            running = False\n",
    "        \n",
    "        if event.type == KEYDOWN:\n",
    "            if event.key == K_RIGHT:\n",
    "                drawAndUpdate(screen, ca, w_width, w_height)\n",
    "        \n",
    "pygame.quit()"
   ]
  },
  {
   "cell_type": "markdown",
   "id": "b6fd5ad7-4ed7-4744-a3e5-3edc23f0e6df",
   "metadata": {},
   "source": [
    "#### check pattern for 60, 62, 182, 250"
   ]
  },
  {
   "cell_type": "code",
   "execution_count": 10,
   "id": "e54dd4ac-5e1a-43d1-8b42-4f4ce272f646",
   "metadata": {},
   "outputs": [],
   "source": [
    "rules = [30, 60, 62, 182, 250]"
   ]
  },
  {
   "cell_type": "code",
   "execution_count": 11,
   "id": "ae245535-31c6-4a31-b0e2-fdd4b73dd958",
   "metadata": {},
   "outputs": [],
   "source": [
    "import os\n",
    "\n",
    "for rule in rules:\n",
    "    pygame.init()\n",
    "    screen = pygame.display.set_mode([800, 800])\n",
    "    \n",
    "    length = 40\n",
    "    ca = ElementaryCA(length, rule)\n",
    "    screen.fill((128, 128, 128))\n",
    "    drawAndUpdate(screen, ca, w_width, w_height)\n",
    "\n",
    "    if not os.path.exists('data'):\n",
    "        os.makedirs('data')\n",
    "    \n",
    "    for _ in range(length):\n",
    "        drawAndUpdate(screen, ca, w_width, w_height)\n",
    "        pygame.time.delay(10)\n",
    "\n",
    "    pygame.image.save(screen, f\"data/rule_{rule}.png\")\n",
    "    pygame.quit()"
   ]
  },
  {
   "cell_type": "code",
   "execution_count": 12,
   "id": "675d9380-7fa1-481e-a9da-ed80c8a6e565",
   "metadata": {},
   "outputs": [
    {
     "data": {
      "image/png": "[encoded data removed]",
      "text/plain": [
       "<Figure size 2500x500 with 5 Axes>"
      ]
     },
     "metadata": {},
     "output_type": "display_data"
    }
   ],
   "source": [
    "import matplotlib.pyplot as plt\n",
    "import matplotlib.image as mpimg\n",
    "\n",
    "image_files = [f for f in os.listdir('data') if f.endswith('.png')]\n",
    "\n",
    "fig, axes = plt.subplots(1, len(image_files), figsize=(25, 5))\n",
    "\n",
    "for i, img_file in enumerate(image_files):\n",
    "    img_path = os.path.join('data', img_file)\n",
    "    \n",
    "    axes[i].imshow(mpimg.imread(img_path))\n",
    "    axes[i].axis('off')\n",
    "    axes[i].set_title(img_file[:-4])\n",
    "\n",
    "plt.show()"
   ]
  },
  {
   "cell_type": "code",
   "execution_count": null,
   "id": "b3bab99c-27ed-4284-b2cc-292b02f4a4dc",
   "metadata": {},
   "outputs": [],
   "source": []
  }
 ],
 "metadata": {
  "kernelspec": {
   "display_name": "venv",
   "language": "python",
   "name": "python3"
  },
  "language_info": {
   "codemirror_mode": {
    "name": "ipython",
    "version": 3
   },
   "file_extension": ".py",
   "mimetype": "text/x-python",
   "name": "python",
   "nbconvert_exporter": "python",
   "pygments_lexer": "ipython3",
   "version": "3.12.3"
  }
 },
 "nbformat": 4,
 "nbformat_minor": 5
}
